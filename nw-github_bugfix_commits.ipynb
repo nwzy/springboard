{
 "metadata": {
  "language_info": {
   "codemirror_mode": {
    "name": "ipython",
    "version": 3
   },
   "file_extension": ".py",
   "mimetype": "text/x-python",
   "name": "python",
   "nbconvert_exporter": "python",
   "pygments_lexer": "ipython3",
   "version": "3.8.2-final"
  },
  "orig_nbformat": 2,
  "kernelspec": {
   "name": "python3",
   "display_name": "Python 3.8.2 64-bit ('springboard_py382': venv)",
   "metadata": {
    "interpreter": {
     "hash": "7e3e06797e765bcd3e9ae7994104545ffe0c2a552173c608b822eb337ba9704e"
    }
   }
  }
 },
 "nbformat": 4,
 "nbformat_minor": 2,
 "cells": [
  {
   "source": [
    "# Springboard Capstone - GitHub commit data collection\n",
    "## Nicolas Wong (Feb 21)"
   ],
   "cell_type": "markdown",
   "metadata": {}
  },
  {
   "cell_type": "code",
   "execution_count": 73,
   "metadata": {},
   "outputs": [],
   "source": [
    "# Setup connection\n",
    "import json\n",
    "import re\n",
    "from requests import request\n",
    "from pprint import pprint as pp"
   ]
  },
  {
   "cell_type": "code",
   "execution_count": 223,
   "metadata": {
    "tags": []
   },
   "outputs": [],
   "source": [
    "# Setup\n",
    "url = f'https://api.github.com/search/repositories'\n",
    "headers = {'Accept': 'application/vnd.github.v3+json'}\n",
    "params = {\n",
    "    'q': 'stars:>=10000 language:Python is:public',\n",
    "    'page': 1,\n",
    "    'per_page': 100,\n",
    "}\n",
    "\n",
    "r = request('GET', headers=headers, url=url, params=params)\n",
    "\n",
    "# r.json().keys() # dict_keys(['total_count', 'incomplete_results', 'items'])"
   ]
  },
  {
   "cell_type": "code",
   "execution_count": 226,
   "metadata": {},
   "outputs": [
    {
     "output_type": "stream",
     "name": "stdout",
     "text": [
      "['donnemartin/system-design-primer',\n 121956,\n 'Learn how to design large-scale systems. Prep for the system design '\n 'interview.  Includes Anki flashcards.',\n 'https://api.github.com/repos/donnemartin/system-design-primer/issues{/number}',\n '2017-02-26T16:15:28Z',\n '2021-02-24T19:03:36Z',\n True]\n['public-apis/public-apis',\n 111373,\n 'A collective list of free APIs for use in software and web development.',\n 'https://api.github.com/repos/public-apis/public-apis/issues{/number}',\n '2016-03-20T23:49:42Z',\n '2021-02-24T19:20:48Z',\n True]\n['TheAlgorithms/Python',\n 100305,\n 'All Algorithms implemented in Python',\n 'https://api.github.com/repos/TheAlgorithms/Python/issues{/number}',\n '2016-07-16T09:44:01Z',\n '2021-02-24T19:20:41Z',\n True]\n['jackfrued/Python-100-Days',\n 99861,\n 'Python - 100天从新手到大师',\n 'https://api.github.com/repos/jackfrued/Python-100-Days/issues{/number}',\n '2018-03-01T16:05:52Z',\n '2021-02-24T17:52:17Z',\n True]\n['vinta/awesome-python',\n 94358,\n 'A curated list of awesome Python frameworks, libraries, software and '\n 'resources',\n 'https://api.github.com/repos/vinta/awesome-python/issues{/number}',\n '2014-06-27T21:00:06Z',\n '2021-02-24T18:41:04Z',\n True]\n['ytdl-org/youtube-dl',\n 90607,\n 'Command-line program to download videos from YouTube.com and other video '\n 'sites',\n 'https://api.github.com/repos/ytdl-org/youtube-dl/issues{/number}',\n '2010-10-31T14:35:07Z',\n '2021-02-24T18:51:37Z',\n True]\n['tensorflow/models',\n 68791,\n 'Models and examples built with TensorFlow',\n 'https://api.github.com/repos/tensorflow/models/issues{/number}',\n '2016-02-05T01:15:20Z',\n '2021-02-24T19:17:30Z',\n True]\n['nvbn/thefuck',\n 59089,\n 'Magnificent app which corrects your previous console command.',\n 'https://api.github.com/repos/nvbn/thefuck/issues{/number}',\n '2015-04-08T15:08:04Z',\n '2021-02-24T19:14:16Z',\n True]\n['django/django',\n 55788,\n 'The Web framework for perfectionists with deadlines.',\n 'https://api.github.com/repos/django/django/issues{/number}',\n '2012-04-28T02:47:18Z',\n '2021-02-24T17:41:57Z',\n False]\n['pallets/flask',\n 54003,\n 'The Python micro framework for building web applications.',\n 'https://api.github.com/repos/pallets/flask/issues{/number}',\n '2010-04-06T11:11:59Z',\n '2021-02-24T19:03:08Z',\n True]\n['keras-team/keras',\n 50758,\n 'Deep Learning for humans',\n 'https://api.github.com/repos/keras-team/keras/issues{/number}',\n '2015-03-28T00:35:42Z',\n '2021-02-24T18:56:21Z',\n True]\n['httpie/httpie',\n 49960,\n 'As easy as /aitch-tee-tee-pie/ 🥧 Modern, user-friendly command-line HTTP '\n 'client for the API era. JSON support, colors, sessions, downloads, plugins & '\n 'more. https://twitter.com/httpie',\n 'https://api.github.com/repos/httpie/httpie/issues{/number}',\n '2012-02-25T12:39:13Z',\n '2021-02-24T16:44:21Z',\n True]\n['josephmisiti/awesome-machine-learning',\n 48549,\n 'A curated list of awesome Machine Learning frameworks, libraries and '\n 'software.',\n 'https://api.github.com/repos/josephmisiti/awesome-machine-learning/issues{/number}',\n '2014-07-15T19:11:19Z',\n '2021-02-24T18:41:22Z',\n True]\n['ansible/ansible',\n 47011,\n 'Ansible is a radically simple IT automation platform that makes your '\n 'applications and systems easier to deploy and maintain. Automate everything '\n 'from code deployment to network configuration to cloud management, in a '\n 'language that approaches plain English, using SSH, with no agents to install '\n 'on remote systems. https://docs.ansible.com.',\n 'https://api.github.com/repos/ansible/ansible/issues{/number}',\n '2012-03-06T14:58:02Z',\n '2021-02-24T18:43:29Z',\n True]\n['scikit-learn/scikit-learn',\n 44678,\n 'scikit-learn: machine learning in Python',\n 'https://api.github.com/repos/scikit-learn/scikit-learn/issues{/number}',\n '2010-08-17T09:43:38Z',\n '2021-02-24T18:55:11Z',\n True]\n['psf/requests',\n 44656,\n 'A simple, yet elegant HTTP library.',\n 'https://api.github.com/repos/psf/requests/issues{/number}',\n '2011-02-13T18:38:17Z',\n '2021-02-24T17:39:55Z',\n True]\n['huggingface/transformers',\n 41392,\n '🤗Transformers: State-of-the-art Natural Language Processing for Pytorch and '\n 'TensorFlow 2.0.',\n 'https://api.github.com/repos/huggingface/transformers/issues{/number}',\n '2018-10-29T13:56:00Z',\n '2021-02-24T19:01:30Z',\n True]\n['home-assistant/core',\n 40462,\n ':house_with_garden: Open source home automation that puts local control and '\n 'privacy first',\n 'https://api.github.com/repos/home-assistant/core/issues{/number}',\n '2013-09-17T07:29:48Z',\n '2021-02-24T19:16:44Z',\n True]\n['scrapy/scrapy',\n 39866,\n 'Scrapy, a fast high-level web crawling & scraping framework for Python.',\n 'https://api.github.com/repos/scrapy/scrapy/issues{/number}',\n '2010-02-22T02:01:14Z',\n '2021-02-24T18:38:27Z',\n True]\n['minimaxir/big-list-of-naughty-strings',\n 39825,\n 'The Big List of Naughty Strings is a list of strings which have a high '\n 'probability of causing issues when used as user-input data.',\n 'https://api.github.com/repos/minimaxir/big-list-of-naughty-strings/issues{/number}',\n '2015-08-08T20:57:20Z',\n '2021-02-24T19:10:38Z',\n True]\n['soimort/you-get',\n 39199,\n ':arrow_double_down: Dumb downloader that scrapes the web',\n 'https://api.github.com/repos/soimort/you-get/issues{/number}',\n '2012-08-20T15:53:36Z',\n '2021-02-24T15:38:42Z',\n False]\n['ageitgey/face_recognition',\n 38668,\n \"The world's simplest facial recognition api for Python and the command line\",\n 'https://api.github.com/repos/ageitgey/face_recognition/issues{/number}',\n '2017-03-03T21:52:39Z',\n '2021-02-24T18:48:26Z',\n True]\n['521xueweihan/HelloGitHub',\n 37441,\n ':octocat: Find pearls on open-source seashore 分享 GitHub 上有趣、入门级的开源项目',\n 'https://api.github.com/repos/521xueweihan/HelloGitHub/issues{/number}',\n '2016-05-04T06:24:11Z',\n '2021-02-24T15:19:40Z',\n True]\n['python/cpython',\n 36364,\n 'The Python programming language',\n 'https://api.github.com/repos/python/cpython/issues{/number}',\n '2017-02-10T19:23:51Z',\n '2021-02-24T19:14:18Z',\n False]\n['apache/superset',\n 35572,\n 'Apache Superset is a Data Visualization and Data Exploration Platform',\n 'https://api.github.com/repos/apache/superset/issues{/number}',\n '2015-07-21T18:55:34Z',\n '2021-02-24T18:51:02Z',\n True]\n['deepfakes/faceswap',\n 34254,\n 'Deepfakes Software For All',\n 'https://api.github.com/repos/deepfakes/faceswap/issues{/number}',\n '2017-12-19T09:44:13Z',\n '2021-02-24T18:50:18Z',\n True]\n['shadowsocks/shadowsocks',\n 32949,\n None,\n 'https://api.github.com/repos/shadowsocks/shadowsocks/issues{/number}',\n '2012-04-20T13:10:49Z',\n '2021-02-24T14:55:08Z',\n False]\n['3b1b/manim',\n 30977,\n 'Animation engine for explanatory math videos',\n 'https://api.github.com/repos/3b1b/manim/issues{/number}',\n '2015-03-22T18:50:58Z',\n '2021-02-24T18:29:15Z',\n True]\n['XX-net/XX-Net',\n 30566,\n 'A proxy tool to bypass GFW.',\n 'https://api.github.com/repos/XX-net/XX-Net/issues{/number}',\n '2015-01-15T09:35:51Z',\n '2021-02-24T17:49:39Z',\n True]\n['0voice/interview_internal_reference',\n 30357,\n '2021年最新总结，阿里，腾讯，百度，美团，头条等技术面试题目，以及答案，专家出题人分析汇总。',\n 'https://api.github.com/repos/0voice/interview_internal_reference/issues{/number}',\n '2019-06-10T06:54:19Z',\n '2021-02-24T16:12:25Z',\n True]\n['isocpp/CppCoreGuidelines',\n 29984,\n 'The C++ Core Guidelines are a set of tried-and-true guidelines, rules, and '\n 'best practices about coding in C++',\n 'https://api.github.com/repos/isocpp/CppCoreGuidelines/issues{/number}',\n '2015-08-19T20:22:52Z',\n '2021-02-24T13:31:06Z',\n True]\n['testerSunshine/12306',\n 29463,\n '12306智能刷票，订票',\n 'https://api.github.com/repos/testerSunshine/12306/issues{/number}',\n '2017-05-17T12:23:40Z',\n '2021-02-24T15:42:58Z',\n True]\n['floodsung/Deep-Learning-Papers-Reading-Roadmap',\n 29361,\n 'Deep Learning papers reading roadmap for anyone who are eager to learn this '\n 'amazing tech!',\n 'https://api.github.com/repos/floodsung/Deep-Learning-Papers-Reading-Roadmap/issues{/number}',\n '2016-10-14T11:49:48Z',\n '2021-02-24T16:16:36Z',\n True]\n['apachecn/AiLearning',\n 28987,\n 'AiLearning: 机器学习 - MachineLearning - ML、深度学习 - DeepLearning - DL、自然语言处理 NLP',\n 'https://api.github.com/repos/apachecn/AiLearning/issues{/number}',\n '2017-02-25T08:53:02Z',\n '2021-02-24T15:17:47Z',\n True]\n['fighting41love/funNLP',\n 28835,\n '中英文敏感词、语言检测、中外手机/电话归属地/运营商查询、名字推断性别、手机号抽取、身份证抽取、邮箱抽取、中日文人名库、中文缩写库、拆字词典、词汇情感值、停用词、反动词表、暴恐词表、繁简体转换、英文模拟中文发音、汪峰歌词生成器、职业名称词库、同义词库、反义词库、否定词库、汽车品牌词库、汽车零件词库、连续英文切割、各种中文词向量、公司名字大全、古诗词库、IT词库、财经词库、成语词库、地名词库、历史名人词库、诗词词库、医学词库、饮食词库、法律词库、汽车词库、动物词库、中文聊天语料、中文谣言数据、百度中文问答数据集、句子相似度匹配算法集合、bert资源、文本生成&摘要相关工具、cocoNLP信息抽取工具、国内电话号码正则匹配、清华大学XLORE:中英文跨语言百科知识图谱、清华大学人工智能技术系列报告、自然语言生成、NLU太难了系列、自动对联数据及机器人、用户名黑名单列表、罪名法务名词及分类模型、微信公众号语料、cs224n深度学习自然语言处理课程、中文手写汉字识别、中文自然语言处理 '\n '语料/数据集、变量命名神器、分词语料库+代码、任务型对话英文数据集、ASR 语音数据集 + '\n '基于深度学习的中文语音识别系统、笑声检测器、Microsoft多语言数字/单位/如日期时间识别包、中华新华字典数据库及api(包括常用歇后语、成语、词语和汉字)、文档图谱自动生成、SpaCy '\n '中文模型、Common '\n 'Voice语音识别数据集新版、神经网络关系抽取、基于bert的命名实体识别、关键词(Keyphrase)抽取包pke、基于医疗领域知识图谱的问答系统、基于依存句法与语义角色标注的事件三元组抽取、依存句法分析4万句高质量标注数据、cnocr：用来做中文OCR的Python3包、中文人物关系知识图谱项目、中文nlp竞赛项目及代码汇总、中文字符数据、speech-aligner: '\n '从“人声语音”及其“语言文本”产生音素级别时间对齐标注的工具、AmpliGraph: '\n '知识图谱表示学习(Python)库：知识图谱概念链接预测、Scattertext 文本可视化(python)、语言/知识表示工具：BERT & '\n 'ERNIE、中文对比英文自然语言处理NLP的区别综述、Synonyms中文近义词工具包、HarvestText领域自适应文本挖掘工具（新词发现-情感分析-实体链接等）、word2word：(Python)方便易用的多语言词-词对集：62种语言/3,564个多语言对、语音识别语料生成工具：从具有音频/字幕的在线视频创建自动语音识别(ASR)语料库、构建医疗实体识别的模型（包含词典和语料标注）、单文档非监督的关键词抽取、Kashgari中使用gpt-2语言模型、开源的金融投资数据提取工具、文本自动摘要库TextTeaser: '\n '仅支持英文、人民日报语料处理工具集、一些关于自然语言的基本模型、基于14W歌曲知识库的问答尝试--功能包括歌词接龙and已知歌词找歌曲以及歌曲歌手歌词三角关系的问答、基于Siamese '\n 'bilstm模型的相似句子判定模型并提供训练数据集和测试数据集、用Transformer编解码模型实现的根据Hacker '\n 'News文章标题自动生成评论、用BERT进行序列标记和文本分类的模板代码、LitBank：NLP数据集——支持自然语言处理和计算人文学科任务的100部带标记英文小说语料、百度开源的基准信息抽取系统、虚假新闻数据集、Facebook: '\n 'LAMA语言模型分析，提供Transformer-XL/BERT/ELMo/GPT预训练语言模型的统一访问接口、CommonsenseQA：面向常识的英文QA挑战、中文知识图谱资料、数据及工具、各大公司内部里大牛分享的技术文档 '\n 'PDF 或者 PPT、自然语言生成SQL语句（英文）、中文NLP数据增强（EDA）工具、英文NLP数据增强工具 '\n '、基于医药知识图谱的智能问答系统、京东商品知识图谱、基于mongodb存储的军事领域知识图谱问答项目、基于远监督的中文关系抽取、语音情感分析、中文ULMFiT-情感分析-文本分类-语料及模型、一个拍照做题程序、世界各国大规模人名库、一个利用有趣中文语料库 '\n 'qingyun '\n '训练出来的中文聊天机器人、中文聊天机器人seqGAN、省市区镇行政区划数据带拼音标注、教育行业新闻语料库包含自动文摘功能、开放了对话机器人-知识图谱-语义理解-自然语言处理工具及数据、中文知识图谱：基于百度百科中文页面-抽取三元组信息-构建中文知识图谱、masr: '\n '中文语音识别-提供预训练模型-高识别率、Python音频数据增广库、中文全词覆盖BERT及两份阅读理解数据、ConvLab：开源多域端到端对话系统平台、中文自然语言处理数据集、基于最新版本rasa搭建的对话系统、基于TensorFlow和BERT的管道式实体及关系抽取、一个小型的证券知识图谱/知识库、复盘所有NLP比赛的TOP方案、OpenCLaP：多领域开源中文预训练语言模型仓库、UER：基于不同语料+编码器+目标任务的中文预训练模型仓库、中文自然语言处理向量合集、基于金融-司法领域(兼有闲聊性质)的聊天机器人、g2pC：基于上下文的汉语读音自动标记模块、Zincbase '\n '知识图谱构建工具包、诗歌质量评价/细粒度情感诗歌语料库、快速转化「中文数字」和「阿拉伯数字」、百度知道问答语料库、基于知识图谱的问答系统、jieba_fast '\n '加速版的jieba、正则表达式教程、中文阅读理解数据集、基于BERT等最新语言模型的抽取式摘要提取、Python利用深度学习进行文本摘要的综合指南、知识图谱深度学习相关资料整理、维基大规模平行文本语料、StanfordNLP '\n '0.2.0：纯Python版自然语言处理包、NeuralNLP-NeuralClassifier：腾讯开源深度学习文本分类工具、端到端的封闭域对话系统、中文命名实体识别：NeuroNER '\n 'vs. '\n 'BertNER、新闻事件线索抽取、2019年百度的三元组抽取比赛：“科学空间队”源码、基于依存句法的开放域文本知识三元组抽取和知识库构建、中文的GPT2训练代码、ML-NLP '\n '- 机器学习(Machine '\n 'Learning)NLP面试中常考到的知识点和代码实现、nlp4han:中文自然语言处理工具集(断句/分词/词性标注/组块/句法分析/语义分析/NER/N元语法/HMM/代词消解/情感分析/拼写检查、XLM：Facebook的跨语言预训练语言模型、用基于BERT的微调和特征提取方法来进行知识图谱百度百科人物词条属性抽取、中文自然语言处理相关的开放任务-数据集-当前最佳结果、CoupletAI '\n '- 基于CNN+Bi-LSTM+Attention 的自动对对联系统、抽象知识图谱、MiningZhiDaoQACorpus - '\n '580万百度知道问答数据挖掘项目、brat rapid annotation tool: '\n '序列标注工具、大规模中文知识图谱数据：1.4亿实体、数据增强在机器翻译及其他nlp任务中的应用及效果、allennlp阅读理解:支持多种数据和模型、PDF表格数据提取工具 '\n '、 '\n 'Graphbrain：AI开源软件库和科研工具，目的是促进自动意义提取和文本理解以及知识的探索和推断、简历自动筛选系统、基于命名实体识别的简历自动摘要、中文语言理解测评基准，包括代表性的数据集&基准模型&语料库&排行榜、树洞 '\n 'OCR 文字识别 、从包含表格的扫描图片中识别表格和文字、语声迁移、Python口语自然语言处理工具集(英文)、 '\n 'similarity：相似度计算工具包，java编写、海量中文预训练ALBERT模型 、Transformers 2.0 '\n '、基于大规模音频数据集Audioset的音频增强 、Poplar：网页版自然语言标注工具、图片文字去除，可用于漫画翻译 '\n '、186种语言的数字叫法库、Amazon发布基于知识的人-人开放领域对话数据集 、中文文本纠错模块代码、繁简体转换 、 '\n 'Python实现的多种文本可读性评价指标、类似于人名/地名/组织机构名的命名体识别数据集 、东南大学《知识图谱》研究生课程(资料)、. 英文拼写检查库 '\n '、 wwsearch是企业微信后台自研的全文检索引擎、CHAMELEON：深度学习新闻推荐系统元架构 、 '\n '8篇论文梳理BERT相关模型进展与反思、DocSearch：免费文档搜索引擎、 LIDA：轻量交互式对话标注工具 、aili - the fastest '\n 'in-memory index in the East 东半球最快并发索引 、知识图谱车音工作项目、自然语言生成资源大全 '\n '、中日韩分词库mecab的Python接口库、中文文本摘要/关键词提取、汉字字符特征提取器 '\n '(featurizer)，提取汉字的特征（发音特征、字形特征）用做深度学习的特征、中文生成任务基准测评 、中文缩写数据集、中文任务基准测评 - '\n '代表性的数据集-基准(预训练)模型-语料库-baseline-工具包-排行榜、PySS3：面向可解释AI的SS3文本分类器机器可视化工具 '\n '、中文NLP数据集列表、COPE - 格律诗编辑程序、doccano：基于网页的开源协同多语言文本标注工具 '\n '、PreNLP：自然语言预处理库、简单的简历解析器，用来从简历中提取关键信息、用于中文闲聊的GPT2模型：GPT2-chitchat、基于检索聊天机器人多轮响应选择相关资源列表(Leaderboards、Datasets、Papers)、(Colab)抽象文本摘要实现集锦(教程 '\n '、词语拼音数据、高效模糊搜索工具、NLP数据增广资源集、微软对话机器人框架 、 GitHub Typo '\n 'Corpus：大规模GitHub多语言拼写错误/语法错误数据集、TextCluster：短文本聚类预处理模块 Short text '\n 'cluster、面向语音识别的中文文本规范化、BLINK：最先进的实体链接库、BertPunc：基于BERT的最先进标点修复模型、Tokenizer：快速、可定制的文本词条化库、中文语言理解测评基准，包括代表性的数据集、基准(预训练)模型、语料库、排行榜、spaCy '\n '医学文本挖掘与信息提取 、 NLP任务示例项目代码集、 python拼写检查库、chatbot-list - '\n '行业内关于智能客服、聊天机器人的应用和架构、算法分享和介绍、语音质量评价指标(MOSNet, BSSEval, STOI, PESQ, SRMR)、 '\n '用138GB语料训练的法文RoBERTa预训练语言模型 、BERT-NER-Pytorch：三种不同模式的BERT中文NER实验、无道词典 - '\n '有道词典的命令行版本，支持英汉互查和在线查询、2019年NLP亮点回顾、 Chinese medical dialogue data 中文医疗对话数据集 '\n '、最好的汉字数字(中文数字)-阿拉伯数字转换工具、 '\n '基于百科知识库的中文词语多词义/义项获取与特定句子词语语义消歧、awesome-nlp-sentiment-analysis - '\n '情感分析、情绪原因识别、评价对象和评价词抽取、LineFlow：面向所有深度学习框架的NLP数据高效加载器、中文医学NLP公开资源整理 '\n '、MedQuAD：(英文)医学问答数据集、将自然语言数字串解析转换为整数和浮点数、Transfer Learning in Natural '\n 'Language Processing (NLP) '\n '、面向语音识别的中文/英文发音辞典、Tokenizers：注重性能与多功能性的最先进分词器、CLUENER 细粒度命名实体识别 Fine Grained '\n 'Named Entity Recognition、 '\n '基于BERT的中文命名实体识别、中文谣言数据库、NLP数据集/基准任务大列表、nlp相关的一些论文及代码, 包括主题模型、词向量(Word '\n 'Embedding)、命名实体识别(NER)、文本分类(Text Classificatin)、文本生成(Text '\n 'Generation)、文本相似性(Text Similarity)计算等，涉及到各种与nlp相关的算法，基于keras和tensorflow '\n '、Python文本挖掘/NLP实战示例、 Blackstone：面向非结构化法律文本的spaCy '\n 'pipeline和NLP模型通过同义词替换实现文本“变脸” 、中文 预训练 ELECTREA 模型: 基于对抗学习 pretrain Chinese '\n 'Model 、albert-chinese-ner - 用预训练语言模型ALBERT做中文NER '\n '、基于GPT2的特定主题文本生成/文本增广、开源预训练语言模型合集、多语言句向量包、编码、标记和实现：一种可控高效的文本生成方法、 英文脏话大列表 '\n '、attnvis：GPT2、BERT等transformer语言模型注意力交互可视化、CoVoST：Facebook发布的多语种语音-文本翻译语料库，包括11种语言(法语、德语、荷兰语、俄语、西班牙语、意大利语、土耳其语、波斯语、瑞典语、蒙古语和中文)的语音、文字转录及英文译文、Jiagu自然语言处理工具 '\n '- 以BiLSTM等模型为基础，提供知识图谱关系抽取 中文分词 词性标注 命名实体识别 情感分析 新词发现 关键词 文本摘要 '\n '文本聚类等功能、用unet实现对文档表格的自动检测，表格重建、NLP事件提取文献资源列表 、 '\n '金融领域自然语言处理研究资源大列表、CLUEDatasetSearch - 中英文NLP数据集：搜索所有中文NLP数据集，附常用英文NLP数据集 '\n '、medical_NER - 中文医学知识图谱命名实体识别 '\n '、(哈佛)讲因果推理的免费书、知识图谱相关学习资料/数据集/工具资源大列表、Forte：灵活强大的自然语言处理pipeline工具集 '\n '、Python字符串相似性算法库、PyLaia：面向手写文档分析的深度学习工具包、TextFooler：针对文本分类/推理的对抗文本生成模块、Haystack：灵活、强大的可扩展问答(QA)框架、中文关键短语抽取工具',\n 'https://api.github.com/repos/fighting41love/funNLP/issues{/number}',\n '2018-08-21T11:20:39Z',\n '2021-02-24T17:51:44Z',\n True]\n['localstack/localstack',\n 28761,\n '💻  A fully functional local AWS cloud stack. Develop and test your cloud & '\n 'Serverless apps offline!',\n 'https://api.github.com/repos/localstack/localstack/issues{/number}',\n '2016-10-25T23:48:03Z',\n '2021-02-24T18:55:07Z',\n True]\n['pandas-dev/pandas',\n 28620,\n 'Flexible and powerful data analysis / manipulation library for Python, '\n 'providing labeled data structures similar to R data.frame objects, '\n 'statistical functions, and much more',\n 'https://api.github.com/repos/pandas-dev/pandas/issues{/number}',\n '2010-08-24T01:37:33Z',\n '2021-02-24T18:55:24Z',\n True]\n['tiangolo/fastapi',\n 27808,\n 'FastAPI framework, high performance, easy to learn, fast to code, ready for '\n 'production',\n 'https://api.github.com/repos/tiangolo/fastapi/issues{/number}',\n '2018-12-08T08:21:47Z',\n '2021-02-24T19:14:12Z',\n True]\n['certbot/certbot',\n 27725,\n \"Certbot is EFF's tool to obtain certs from Let's Encrypt and (optionally) \"\n 'auto-enable HTTPS on your server.  It can also act as a client for any other '\n 'CA that uses the ACME protocol.',\n 'https://api.github.com/repos/certbot/certbot/issues{/number}',\n '2014-11-12T02:52:20Z',\n '2021-02-24T17:46:18Z',\n True]\n['faif/python-patterns',\n 27618,\n 'A collection of design patterns/idioms in Python',\n 'https://api.github.com/repos/faif/python-patterns/issues{/number}',\n '2012-06-06T21:02:35Z',\n '2021-02-24T17:31:53Z',\n True]\n['getsentry/sentry',\n 27384,\n 'Sentry is cross-platform application monitoring, with a focus on error '\n 'reporting.',\n 'https://api.github.com/repos/getsentry/sentry/issues{/number}',\n '2010-08-30T22:06:41Z',\n '2021-02-24T19:16:08Z',\n True]\n['google-research/bert',\n 27064,\n 'TensorFlow code and pre-trained models for BERT',\n 'https://api.github.com/repos/google-research/bert/issues{/number}',\n '2018-10-25T22:57:34Z',\n '2021-02-24T18:08:48Z',\n True]\n['satwikkansal/wtfpython',\n 25967,\n 'What the f*ck Python? 😱',\n 'https://api.github.com/repos/satwikkansal/wtfpython/issues{/number}',\n '2017-08-28T20:22:19Z',\n '2021-02-24T14:10:36Z',\n True]\n['fxsjy/jieba',\n 25562,\n '结巴中文分词',\n 'https://api.github.com/repos/fxsjy/jieba/issues{/number}',\n '2012-09-29T07:52:01Z',\n '2021-02-24T15:06:51Z',\n True]\n['facebookresearch/Detectron',\n 24129,\n \"FAIR's research platform for object detection research, implementing popular \"\n 'algorithms like Mask R-CNN and RetinaNet.',\n 'https://api.github.com/repos/facebookresearch/Detectron/issues{/number}',\n '2017-10-05T17:32:00Z',\n '2021-02-24T18:48:55Z',\n True]\n['chubin/cheat.sh',\n 23535,\n 'the only cheat sheet you need',\n 'https://api.github.com/repos/chubin/cheat.sh/issues{/number}',\n '2017-05-07T21:40:56Z',\n '2021-02-24T14:24:45Z',\n True]\n['openai/gym',\n 23511,\n 'A toolkit for developing and comparing reinforcement learning algorithms.',\n 'https://api.github.com/repos/openai/gym/issues{/number}',\n '2016-04-27T14:59:16Z',\n '2021-02-24T18:20:46Z',\n True]\n['willmcgugan/rich',\n 23511,\n 'Rich is a Python library for rich text and beautiful formatting in the '\n 'terminal.',\n 'https://api.github.com/repos/willmcgugan/rich/issues{/number}',\n '2019-11-10T15:28:09Z',\n '2021-02-24T18:10:02Z',\n True]\n['iperov/DeepFaceLab',\n 23484,\n 'DeepFaceLab is the leading software for creating deepfakes.',\n 'https://api.github.com/repos/iperov/DeepFaceLab/issues{/number}',\n '2018-06-04T13:10:00Z',\n '2021-02-24T19:10:01Z',\n True]\n['CorentinJ/Real-Time-Voice-Cloning',\n 23118,\n 'Clone a voice in 5 seconds to generate arbitrary speech in real-time',\n 'https://api.github.com/repos/CorentinJ/Real-Time-Voice-Cloning/issues{/number}',\n '2019-05-26T08:56:15Z',\n '2021-02-24T19:02:35Z',\n True]\n['ycm-core/YouCompleteMe',\n 22547,\n 'A code-completion engine for Vim',\n 'https://api.github.com/repos/ycm-core/YouCompleteMe/issues{/number}',\n '2012-04-16T03:12:14Z',\n '2021-02-24T16:03:09Z',\n True]\n['0xAX/linux-insides',\n 22388,\n 'A little bit about a linux kernel',\n 'https://api.github.com/repos/0xAX/linux-insides/issues{/number}',\n '2015-01-03T18:44:57Z',\n '2021-02-24T07:48:40Z',\n True]\n['swisskyrepo/PayloadsAllTheThings',\n 22310,\n 'A list of useful payloads and bypass for Web Application Security and '\n 'Pentest/CTF',\n 'https://api.github.com/repos/swisskyrepo/PayloadsAllTheThings/issues{/number}',\n '2016-10-18T07:29:07Z',\n '2021-02-24T19:07:19Z',\n True]\n['hankcs/HanLP',\n 22133,\n 'Natural Language Processing for the next decade. Tokenization, '\n 'Part-of-Speech Tagging, Named Entity Recognition, Syntactic & Semantic '\n 'Dependency Parsing, Document Classification',\n 'https://api.github.com/repos/hankcs/HanLP/issues{/number}',\n '2014-10-09T06:36:16Z',\n '2021-02-24T18:27:05Z',\n True]\n['donnemartin/interactive-coding-challenges',\n 21941,\n '120+ interactive Python coding interview challenges (algorithms and data '\n 'structures).  Includes Anki flashcards.',\n 'https://api.github.com/repos/donnemartin/interactive-coding-challenges/issues{/number}',\n '2015-04-28T21:36:39Z',\n '2021-02-24T13:46:59Z',\n True]\n['docker/compose',\n 21930,\n 'Define and run multi-container applications with Docker',\n 'https://api.github.com/repos/docker/compose/issues{/number}',\n '2013-12-09T11:40:58Z',\n '2021-02-24T19:07:19Z',\n True]\n['mitmproxy/mitmproxy',\n 21592,\n 'An interactive TLS-capable intercepting HTTP proxy for penetration testers '\n 'and software developers.',\n 'https://api.github.com/repos/mitmproxy/mitmproxy/issues{/number}',\n '2010-02-16T04:10:13Z',\n '2021-02-24T14:44:07Z',\n True]\n['pypa/pipenv',\n 21576,\n ' Python Development Workflow for Humans.',\n 'https://api.github.com/repos/pypa/pipenv/issues{/number}',\n '2017-01-20T00:44:02Z',\n '2021-02-24T18:22:58Z',\n True]\n['littlecodersh/ItChat',\n 21224,\n 'A complete and graceful API for Wechat. 微信个人号接口、微信机器人及命令行微信，三十行即可自定义个人号机器人。',\n 'https://api.github.com/repos/littlecodersh/ItChat/issues{/number}',\n '2016-01-19T07:49:48Z',\n '2021-02-24T15:46:54Z',\n True]\n['sherlock-project/sherlock',\n 20737,\n '🔎 Hunt down social media accounts by username across social networks',\n 'https://api.github.com/repos/sherlock-project/sherlock/issues{/number}',\n '2018-12-24T14:30:48Z',\n '2021-02-24T17:43:32Z',\n True]\n['apache/airflow',\n 20557,\n 'Apache Airflow - A platform to programmatically author, schedule, and '\n 'monitor workflows',\n 'https://api.github.com/repos/apache/airflow/issues{/number}',\n '2015-04-13T18:04:58Z',\n '2021-02-24T17:14:47Z',\n True]\n['geekcomputers/Python',\n 20496,\n 'My Python Examples',\n 'https://api.github.com/repos/geekcomputers/Python/issues{/number}',\n '2011-11-30T09:04:08Z',\n '2021-02-24T19:19:31Z',\n True]\n['encode/django-rest-framework',\n 20338,\n 'Web APIs for Django. 🎸',\n 'https://api.github.com/repos/encode/django-rest-framework/issues{/number}',\n '2011-03-02T17:13:56Z',\n '2021-02-24T18:57:20Z',\n True]\n['donnemartin/data-science-ipython-notebooks',\n 20257,\n 'Data science Python notebooks: Deep learning (TensorFlow, Theano, Caffe, '\n 'Keras), scikit-learn, Kaggle, big data (Spark, Hadoop MapReduce, HDFS), '\n 'matplotlib, pandas, NumPy, SciPy, Python essentials, AWS, and various '\n 'command lines.',\n 'https://api.github.com/repos/donnemartin/data-science-ipython-notebooks/issues{/number}',\n '2015-01-23T19:38:29Z',\n '2021-02-24T07:36:22Z',\n True]\n['trailofbits/algo',\n 20180,\n 'Set up a personal VPN in the cloud',\n 'https://api.github.com/repos/trailofbits/algo/issues{/number}',\n '2016-05-15T03:42:48Z',\n '2021-02-24T15:54:58Z',\n True]\n['d2l-ai/d2l-zh',\n 20121,\n '《动手学深度学习》：面向中文读者、能运行、可讨论。中英文版被全球175所大学采用教学。',\n 'https://api.github.com/repos/d2l-ai/d2l-zh/issues{/number}',\n '2017-08-23T04:40:24Z',\n '2021-02-24T17:23:55Z',\n False]\n['tornadoweb/tornado',\n 19805,\n 'Tornado is a Python web framework and asynchronous networking library, '\n 'originally developed at FriendFeed.',\n 'https://api.github.com/repos/tornadoweb/tornado/issues{/number}',\n '2009-09-09T04:55:16Z',\n '2021-02-24T05:39:06Z',\n True]\n['yunjey/pytorch-tutorial',\n 19763,\n 'PyTorch Tutorial for Deep Learning Researchers',\n 'https://api.github.com/repos/yunjey/pytorch-tutorial/issues{/number}',\n '2017-03-10T07:41:47Z',\n '2021-02-24T18:24:05Z',\n True]\n['psf/black',\n 19679,\n 'The uncompromising Python code formatter',\n 'https://api.github.com/repos/psf/black/issues{/number}',\n '2018-03-14T19:54:45Z',\n '2021-02-24T18:00:39Z',\n True]\n['explosion/spaCy',\n 19669,\n '💫 Industrial-strength Natural Language Processing (NLP) in Python',\n 'https://api.github.com/repos/explosion/spaCy/issues{/number}',\n '2014-07-03T15:15:40Z',\n '2021-02-24T18:59:10Z',\n True]\n['gto76/python-cheatsheet',\n 19498,\n 'Comprehensive Python Cheatsheet',\n 'https://api.github.com/repos/gto76/python-cheatsheet/issues{/number}',\n '2018-01-25T04:16:53Z',\n '2021-02-24T19:16:51Z',\n True]\n['eriklindernoren/ML-From-Scratch',\n 19479,\n 'Machine Learning From Scratch. Bare bones NumPy implementations of machine '\n 'learning models and algorithms with a focus on accessibility. Aims to cover '\n 'everything from linear regression to deep learning.',\n 'https://api.github.com/repos/eriklindernoren/ML-From-Scratch/issues{/number}',\n '2017-02-05T12:11:23Z',\n '2021-02-24T17:35:05Z',\n True]\n['matterport/Mask_RCNN',\n 19473,\n 'Mask R-CNN for object detection and instance segmentation on Keras and '\n 'TensorFlow',\n 'https://api.github.com/repos/matterport/Mask_RCNN/issues{/number}',\n '2017-10-19T20:28:34Z',\n '2021-02-24T18:26:14Z',\n True]\n['sqlmapproject/sqlmap',\n 19430,\n 'Automatic SQL injection and database takeover tool',\n 'https://api.github.com/repos/sqlmapproject/sqlmap/issues{/number}',\n '2012-06-26T09:52:15Z',\n '2021-02-24T16:28:10Z',\n True]\n['keon/algorithms',\n 18787,\n 'Minimal examples of data structures and algorithms in Python',\n 'https://api.github.com/repos/keon/algorithms/issues{/number}',\n '2016-11-17T22:32:08Z',\n '2021-02-24T17:49:30Z',\n True]\n['google/python-fire',\n 18699,\n 'Python Fire is a library for automatically generating command line '\n 'interfaces (CLIs) from absolutely any Python object.',\n 'https://api.github.com/repos/google/python-fire/issues{/number}',\n '2017-02-21T21:35:07Z',\n '2021-02-24T17:31:03Z',\n True]\n['getredash/redash',\n 18259,\n 'Make Your Company Data Driven. Connect to any data source, easily visualize, '\n 'dashboard and share your data.',\n 'https://api.github.com/repos/getredash/redash/issues{/number}',\n '2013-10-28T13:19:39Z',\n '2021-02-24T19:12:02Z',\n True]\n['wangzheng0822/algo',\n 17954,\n '数据结构和算法必知必会的50个代码实现',\n 'https://api.github.com/repos/wangzheng0822/algo/issues{/number}',\n '2018-09-24T05:33:46Z',\n '2021-02-24T15:30:41Z',\n True]\n['nicolargo/glances',\n 17902,\n 'Glances an Eye on your system. A top/htop alternative for GNU/Linux, BSD, '\n 'Mac OS and Windows operating systems.',\n 'https://api.github.com/repos/nicolargo/glances/issues{/number}',\n '2011-12-04T08:49:15Z',\n '2021-02-24T12:38:19Z',\n True]\n['sebastianruder/NLP-progress',\n 17846,\n 'Repository to track the progress in Natural Language Processing (NLP), '\n 'including the datasets and the current state-of-the-art for the most common '\n 'NLP tasks.',\n 'https://api.github.com/repos/sebastianruder/NLP-progress/issues{/number}',\n '2018-06-22T17:43:55Z',\n '2021-02-24T19:13:19Z',\n True]\n['drduh/macOS-Security-and-Privacy-Guide',\n 17755,\n 'Guide to securing and improving privacy on macOS',\n 'https://api.github.com/repos/drduh/macOS-Security-and-Privacy-Guide/issues{/number}',\n '2015-08-31T03:36:35Z',\n '2021-02-24T14:48:36Z',\n True]\n['tqdm/tqdm',\n 17533,\n 'A Fast, Extensible Progress Bar for Python and CLI',\n 'https://api.github.com/repos/tqdm/tqdm/issues{/number}',\n '2015-06-03T13:13:14Z',\n '2021-02-24T19:04:48Z',\n True]\n['StevenBlack/hosts',\n 17293,\n 'Consolidating and extending hosts files from several well-curated sources. '\n 'You can optionally pick extensions to block pornography, social media, and '\n 'other categories.',\n 'https://api.github.com/repos/StevenBlack/hosts/issues{/number}',\n '2012-04-12T20:22:50Z',\n '2021-02-24T17:18:03Z',\n True]\n['celery/celery',\n 16765,\n 'Distributed Task Queue (development branch)',\n 'https://api.github.com/repos/celery/celery/issues{/number}',\n '2009-04-24T11:31:24Z',\n '2021-02-24T17:50:47Z',\n True]\n['numpy/numpy',\n 16358,\n 'The fundamental package for scientific computing with Python.',\n 'https://api.github.com/repos/numpy/numpy/issues{/number}',\n '2010-09-13T23:02:39Z',\n '2021-02-24T17:17:34Z',\n True]\n['magenta/magenta',\n 16326,\n 'Magenta: Music and Art Generation with Machine Intelligence',\n 'https://api.github.com/repos/magenta/magenta/issues{/number}',\n '2016-05-05T20:10:40Z',\n '2021-02-24T18:48:35Z',\n True]\n['reddit-archive/reddit',\n 15663,\n 'historical code from reddit.com',\n 'https://api.github.com/repos/reddit-archive/reddit/issues{/number}',\n '2008-06-18T23:30:53Z',\n '2021-02-24T17:11:33Z',\n False]\n['deezer/spleeter',\n 15644,\n 'Deezer source separation library including pretrained models.',\n 'https://api.github.com/repos/deezer/spleeter/issues{/number}',\n '2019-09-26T15:40:46Z',\n '2021-02-24T19:01:24Z',\n True]\n['pytorch/examples',\n 15516,\n 'A set of examples around pytorch in Vision, Text, Reinforcement Learning, '\n 'etc.',\n 'https://api.github.com/repos/pytorch/examples/issues{/number}',\n '2016-08-24T03:12:48Z',\n '2021-02-24T15:04:58Z',\n True]\n['beurtschipper/Depix',\n 15476,\n 'Recovers passwords from pixelized screenshots',\n 'https://api.github.com/repos/beurtschipper/Depix/issues{/number}',\n '2020-12-06T12:39:08Z',\n '2021-02-24T18:56:54Z',\n True]\n['instillai/TensorFlow-Course',\n 15469,\n ':satellite: Simple and ready-to-use tutorials for TensorFlow ',\n 'https://api.github.com/repos/instillai/TensorFlow-Course/issues{/number}',\n '2018-10-02T18:10:12Z',\n '2021-02-24T09:44:42Z',\n True]\n['locustio/locust',\n 15419,\n 'Scalable user load testing tool written in Python',\n 'https://api.github.com/repos/locustio/locust/issues{/number}',\n '2011-02-17T11:08:03Z',\n '2021-02-24T15:06:14Z',\n True]\n['OWASP/CheatSheetSeries',\n 15406,\n 'The OWASP Cheat Sheet Series was created to provide a concise collection of '\n 'high value information on specific application security topics.',\n 'https://api.github.com/repos/OWASP/CheatSheetSeries/issues{/number}',\n '2018-12-21T14:26:43Z',\n '2021-02-24T17:32:54Z',\n True]\n['jumpserver/jumpserver',\n 15285,\n 'JumpServer 是全球首款开源的堡垒机，是符合 4A 的专业运维安全审计系统。',\n 'https://api.github.com/repos/jumpserver/jumpserver/issues{/number}',\n '2014-07-04T03:54:59Z',\n '2021-02-24T09:39:47Z',\n True]\n['microsoft/cascadia-code',\n 15247,\n 'This is a fun, new monospaced font that includes programming ligatures and '\n 'is designed to enhance the modern look and feel of the Windows Terminal.',\n 'https://api.github.com/repos/microsoft/cascadia-code/issues{/number}',\n '2019-07-10T22:50:20Z',\n '2021-02-24T17:57:48Z',\n True]\n['facebookresearch/detectron2',\n 15103,\n \"Detectron2 is FAIR's next-generation platform for object detection and \"\n 'segmentation.',\n 'https://api.github.com/repos/facebookresearch/detectron2/issues{/number}',\n '2019-09-05T21:30:20Z',\n '2021-02-24T18:28:02Z',\n True]\n['bitcoinbook/bitcoinbook',\n 14957,\n 'Mastering Bitcoin 2nd Edition - Programming the Open Blockchain',\n 'https://api.github.com/repos/bitcoinbook/bitcoinbook/issues{/number}',\n '2013-08-11T23:18:28Z',\n '2021-02-24T18:09:27Z',\n True]\n['ray-project/ray',\n 14953,\n 'An open source framework that provides a simple, universal API for building '\n 'distributed applications. Ray is packaged with RLlib, a scalable '\n 'reinforcement learning library, and Tune, a scalable hyperparameter tuning '\n 'library.',\n 'https://api.github.com/repos/ray-project/ray/issues{/number}',\n '2016-10-25T19:38:30Z',\n '2021-02-24T18:13:05Z',\n True]\n['charlax/professional-programming',\n 14925,\n 'A collection of full-stack resources for programmers.',\n 'https://api.github.com/repos/charlax/professional-programming/issues{/number}',\n '2015-11-07T05:07:52Z',\n '2021-02-24T12:04:12Z',\n True]\n['toml-lang/toml',\n 14899,\n \"Tom's Obvious, Minimal Language\",\n 'https://api.github.com/repos/toml-lang/toml/issues{/number}',\n '2013-02-24T03:03:57Z',\n '2021-02-24T18:14:41Z',\n True]\n"
     ]
    }
   ],
   "source": [
    "item_param = [\n",
    "    'full_name',\n",
    "    'stargazers_count',\n",
    "    'description',\n",
    "    'issues_url',\n",
    "    'created_at',\n",
    "    'updated_at',\n",
    "    'has_issues',\n",
    "]\n",
    "for item in r.json()['items']:\n",
    "    pp([item[param] for param in item_param])\n",
    "    # pp((item['full_name'], item['stargazers_count']))\n",
    "# r.json()['items'][0]['full_name'] # pallets/flask"
   ]
  },
  {
   "cell_type": "code",
   "execution_count": 211,
   "metadata": {},
   "outputs": [
    {
     "output_type": "execute_result",
     "data": {
      "text/plain": [
       "['<https://api.github.com/search/repositories?q=stars%3A%3E%3D10000+language%3APython+is%3Apublic&page=1&per_page=100>; rel=\"prev\"',\n",
       " ' <https://api.github.com/search/repositories?q=stars%3A%3E%3D10000+language%3APython+is%3Apublic&page=1&per_page=100>; rel=\"first\"']"
      ]
     },
     "metadata": {},
     "execution_count": 211
    }
   ],
   "source": [
    "# pp(dict(r.headers)) # Looking for how many pages\n",
    "r.headers['Link'].split(',')"
   ]
  },
  {
   "cell_type": "code",
   "execution_count": 222,
   "metadata": {},
   "outputs": [
    {
     "output_type": "execute_result",
     "data": {
      "text/plain": [
       "{'id': 83222441,\n",
       " 'node_id': 'MDEwOlJlcG9zaXRvcnk4MzIyMjQ0MQ==',\n",
       " 'name': 'system-design-primer',\n",
       " 'full_name': 'donnemartin/system-design-primer',\n",
       " 'private': False,\n",
       " 'owner': {'login': 'donnemartin',\n",
       "  'id': 5458997,\n",
       "  'node_id': 'MDQ6VXNlcjU0NTg5OTc=',\n",
       "  'avatar_url': 'https://avatars.githubusercontent.com/u/5458997?v=4',\n",
       "  'gravatar_id': '',\n",
       "  'url': 'https://api.github.com/users/donnemartin',\n",
       "  'html_url': 'https://github.com/donnemartin',\n",
       "  'followers_url': 'https://api.github.com/users/donnemartin/followers',\n",
       "  'following_url': 'https://api.github.com/users/donnemartin/following{/other_user}',\n",
       "  'gists_url': 'https://api.github.com/users/donnemartin/gists{/gist_id}',\n",
       "  'starred_url': 'https://api.github.com/users/donnemartin/starred{/owner}{/repo}',\n",
       "  'subscriptions_url': 'https://api.github.com/users/donnemartin/subscriptions',\n",
       "  'organizations_url': 'https://api.github.com/users/donnemartin/orgs',\n",
       "  'repos_url': 'https://api.github.com/users/donnemartin/repos',\n",
       "  'events_url': 'https://api.github.com/users/donnemartin/events{/privacy}',\n",
       "  'received_events_url': 'https://api.github.com/users/donnemartin/received_events',\n",
       "  'type': 'User',\n",
       "  'site_admin': False},\n",
       " 'html_url': 'https://github.com/donnemartin/system-design-primer',\n",
       " 'description': 'Learn how to design large-scale systems. Prep for the system design interview.  Includes Anki flashcards.',\n",
       " 'fork': False,\n",
       " 'url': 'https://api.github.com/repos/donnemartin/system-design-primer',\n",
       " 'forks_url': 'https://api.github.com/repos/donnemartin/system-design-primer/forks',\n",
       " 'keys_url': 'https://api.github.com/repos/donnemartin/system-design-primer/keys{/key_id}',\n",
       " 'collaborators_url': 'https://api.github.com/repos/donnemartin/system-design-primer/collaborators{/collaborator}',\n",
       " 'teams_url': 'https://api.github.com/repos/donnemartin/system-design-primer/teams',\n",
       " 'hooks_url': 'https://api.github.com/repos/donnemartin/system-design-primer/hooks',\n",
       " 'issue_events_url': 'https://api.github.com/repos/donnemartin/system-design-primer/issues/events{/number}',\n",
       " 'events_url': 'https://api.github.com/repos/donnemartin/system-design-primer/events',\n",
       " 'assignees_url': 'https://api.github.com/repos/donnemartin/system-design-primer/assignees{/user}',\n",
       " 'branches_url': 'https://api.github.com/repos/donnemartin/system-design-primer/branches{/branch}',\n",
       " 'tags_url': 'https://api.github.com/repos/donnemartin/system-design-primer/tags',\n",
       " 'blobs_url': 'https://api.github.com/repos/donnemartin/system-design-primer/git/blobs{/sha}',\n",
       " 'git_tags_url': 'https://api.github.com/repos/donnemartin/system-design-primer/git/tags{/sha}',\n",
       " 'git_refs_url': 'https://api.github.com/repos/donnemartin/system-design-primer/git/refs{/sha}',\n",
       " 'trees_url': 'https://api.github.com/repos/donnemartin/system-design-primer/git/trees{/sha}',\n",
       " 'statuses_url': 'https://api.github.com/repos/donnemartin/system-design-primer/statuses/{sha}',\n",
       " 'languages_url': 'https://api.github.com/repos/donnemartin/system-design-primer/languages',\n",
       " 'stargazers_url': 'https://api.github.com/repos/donnemartin/system-design-primer/stargazers',\n",
       " 'contributors_url': 'https://api.github.com/repos/donnemartin/system-design-primer/contributors',\n",
       " 'subscribers_url': 'https://api.github.com/repos/donnemartin/system-design-primer/subscribers',\n",
       " 'subscription_url': 'https://api.github.com/repos/donnemartin/system-design-primer/subscription',\n",
       " 'commits_url': 'https://api.github.com/repos/donnemartin/system-design-primer/commits{/sha}',\n",
       " 'git_commits_url': 'https://api.github.com/repos/donnemartin/system-design-primer/git/commits{/sha}',\n",
       " 'comments_url': 'https://api.github.com/repos/donnemartin/system-design-primer/comments{/number}',\n",
       " 'issue_comment_url': 'https://api.github.com/repos/donnemartin/system-design-primer/issues/comments{/number}',\n",
       " 'contents_url': 'https://api.github.com/repos/donnemartin/system-design-primer/contents/{+path}',\n",
       " 'compare_url': 'https://api.github.com/repos/donnemartin/system-design-primer/compare/{base}...{head}',\n",
       " 'merges_url': 'https://api.github.com/repos/donnemartin/system-design-primer/merges',\n",
       " 'archive_url': 'https://api.github.com/repos/donnemartin/system-design-primer/{archive_format}{/ref}',\n",
       " 'downloads_url': 'https://api.github.com/repos/donnemartin/system-design-primer/downloads',\n",
       " 'issues_url': 'https://api.github.com/repos/donnemartin/system-design-primer/issues{/number}',\n",
       " 'pulls_url': 'https://api.github.com/repos/donnemartin/system-design-primer/pulls{/number}',\n",
       " 'milestones_url': 'https://api.github.com/repos/donnemartin/system-design-primer/milestones{/number}',\n",
       " 'notifications_url': 'https://api.github.com/repos/donnemartin/system-design-primer/notifications{?since,all,participating}',\n",
       " 'labels_url': 'https://api.github.com/repos/donnemartin/system-design-primer/labels{/name}',\n",
       " 'releases_url': 'https://api.github.com/repos/donnemartin/system-design-primer/releases{/id}',\n",
       " 'deployments_url': 'https://api.github.com/repos/donnemartin/system-design-primer/deployments',\n",
       " 'created_at': '2017-02-26T16:15:28Z',\n",
       " 'updated_at': '2021-02-24T19:03:36Z',\n",
       " 'pushed_at': '2021-02-23T03:06:21Z',\n",
       " 'git_url': 'git://github.com/donnemartin/system-design-primer.git',\n",
       " 'ssh_url': 'git@github.com:donnemartin/system-design-primer.git',\n",
       " 'clone_url': 'https://github.com/donnemartin/system-design-primer.git',\n",
       " 'svn_url': 'https://github.com/donnemartin/system-design-primer',\n",
       " 'homepage': '',\n",
       " 'size': 11152,\n",
       " 'stargazers_count': 121956,\n",
       " 'watchers_count': 121956,\n",
       " 'language': 'Python',\n",
       " 'has_issues': True,\n",
       " 'has_projects': True,\n",
       " 'has_downloads': True,\n",
       " 'has_wiki': True,\n",
       " 'has_pages': False,\n",
       " 'forks_count': 22226,\n",
       " 'mirror_url': None,\n",
       " 'archived': False,\n",
       " 'disabled': False,\n",
       " 'open_issues_count': 178,\n",
       " 'license': {'key': 'other',\n",
       "  'name': 'Other',\n",
       "  'spdx_id': 'NOASSERTION',\n",
       "  'url': None,\n",
       "  'node_id': 'MDc6TGljZW5zZTA='},\n",
       " 'forks': 22226,\n",
       " 'open_issues': 178,\n",
       " 'watchers': 121956,\n",
       " 'default_branch': 'master',\n",
       " 'score': 1.0}"
      ]
     },
     "metadata": {},
     "execution_count": 222
    }
   ],
   "source": [
    "r.json()['items'][0] \n",
    "# Relevant data for project:\n",
    "# full_name\n",
    "# description\n",
    "# issues_url\n",
    "# created_at\n",
    "# updated_at\n",
    "# has_issues"
   ]
  },
  {
   "cell_type": "code",
   "execution_count": 158,
   "metadata": {
    "tags": []
   },
   "outputs": [
    {
     "output_type": "error",
     "ename": "IndexError",
     "evalue": "list index out of range",
     "traceback": [
      "\u001b[0;31m---------------------------------------------------------------------------\u001b[0m",
      "\u001b[0;31mIndexError\u001b[0m                                Traceback (most recent call last)",
      "\u001b[0;32m<ipython-input-158-af6119e3aa18>\u001b[0m in \u001b[0;36m<module>\u001b[0;34m\u001b[0m\n\u001b[1;32m     11\u001b[0m \u001b[0;31m#     #     if pulls['labels']:\u001b[0m\u001b[0;34m\u001b[0m\u001b[0;34m\u001b[0m\u001b[0;34m\u001b[0m\u001b[0m\n\u001b[1;32m     12\u001b[0m \u001b[0;31m#     #         pp(pulls['labels'])\u001b[0m\u001b[0;34m\u001b[0m\u001b[0;34m\u001b[0m\u001b[0;34m\u001b[0m\u001b[0m\n\u001b[0;32m---> 13\u001b[0;31m \u001b[0mflask_url\u001b[0m \u001b[0;34m=\u001b[0m \u001b[0mr\u001b[0m\u001b[0;34m.\u001b[0m\u001b[0mjson\u001b[0m\u001b[0;34m(\u001b[0m\u001b[0;34m)\u001b[0m\u001b[0;34m[\u001b[0m\u001b[0;34m'items'\u001b[0m\u001b[0;34m]\u001b[0m\u001b[0;34m[\u001b[0m\u001b[0;36m0\u001b[0m\u001b[0;34m]\u001b[0m\u001b[0;34m[\u001b[0m\u001b[0;34m'full_name'\u001b[0m\u001b[0;34m]\u001b[0m\u001b[0;34m\u001b[0m\u001b[0;34m\u001b[0m\u001b[0m\n\u001b[0m\u001b[1;32m     14\u001b[0m \u001b[0;31m# item_url = f'https://api.github.com/repos/{flask_url}/issues'\u001b[0m\u001b[0;34m\u001b[0m\u001b[0;34m\u001b[0m\u001b[0;34m\u001b[0m\u001b[0m\n\u001b[1;32m     15\u001b[0m \u001b[0mitem_url\u001b[0m \u001b[0;34m=\u001b[0m \u001b[0;34mf'https://api.github.com/search/issues'\u001b[0m\u001b[0;34m\u001b[0m\u001b[0;34m\u001b[0m\u001b[0m\n",
      "\u001b[0;31mIndexError\u001b[0m: list index out of range"
     ]
    }
   ],
   "source": [
    "# for item in r.json()['items']:\n",
    "#     # item_url = f'https://api.github.com/repos/{item[\"full_name\"]}/issues'\n",
    "#     item_url = f'https://api.github.com/repos/{item[\"full_name\"]}/issues'\n",
    "#     # pp(item_url)\n",
    "#     item_headers = {'Accept': 'application/vnd.github.v3+json'}\n",
    "#     item_params = {'q': 'is:closed'}\n",
    "#     item_r = request('GET', url=item_url, headers=item_headers, params=item_params)\n",
    "#     # pp(item_r.json()[0]))\n",
    "#     for pulls in item_r.json():\n",
    "#         pp(pulls['state'])\n",
    "#     #     if pulls['labels']:\n",
    "#     #         pp(pulls['labels'])\n",
    "\n",
    "flask_url = r.json()['items'][0]['full_name']\n",
    "# item_url = f'https://api.github.com/repos/{flask_url}/issues'\n",
    "item_url = f'https://api.github.com/search/issues'\n",
    "item_headers = {'Accept': 'application/vnd.github.v3+json'}\n",
    "item_params = {\n",
    "    'q': 'is:issue is:closed language:python label:bug stars:>=10000',\n",
    "    'per_page': 100,\n",
    "}\n",
    " = request('GET', url=item_url, headers=item_headers, params=item_params)\n",
    "# item_r = request('GET', url=item_url, headers=item_headers)\n",
    "\n"
   ]
  },
  {
   "cell_type": "code",
   "execution_count": 260,
   "metadata": {},
   "outputs": [
    {
     "output_type": "execute_result",
     "data": {
      "text/plain": [
       "{'id': 596892,\n",
       " 'node_id': 'MDEwOlJlcG9zaXRvcnk1OTY4OTI=',\n",
       " 'name': 'flask',\n",
       " 'full_name': 'pallets/flask',\n",
       " 'private': False,\n",
       " 'owner': {'login': 'pallets',\n",
       "  'id': 16748505,\n",
       "  'node_id': 'MDEyOk9yZ2FuaXphdGlvbjE2NzQ4NTA1',\n",
       "  'avatar_url': 'https://avatars.githubusercontent.com/u/16748505?v=4',\n",
       "  'gravatar_id': '',\n",
       "  'url': 'https://api.github.com/users/pallets',\n",
       "  'html_url': 'https://github.com/pallets',\n",
       "  'followers_url': 'https://api.github.com/users/pallets/followers',\n",
       "  'following_url': 'https://api.github.com/users/pallets/following{/other_user}',\n",
       "  'gists_url': 'https://api.github.com/users/pallets/gists{/gist_id}',\n",
       "  'starred_url': 'https://api.github.com/users/pallets/starred{/owner}{/repo}',\n",
       "  'subscriptions_url': 'https://api.github.com/users/pallets/subscriptions',\n",
       "  'organizations_url': 'https://api.github.com/users/pallets/orgs',\n",
       "  'repos_url': 'https://api.github.com/users/pallets/repos',\n",
       "  'events_url': 'https://api.github.com/users/pallets/events{/privacy}',\n",
       "  'received_events_url': 'https://api.github.com/users/pallets/received_events',\n",
       "  'type': 'Organization',\n",
       "  'site_admin': False},\n",
       " 'html_url': 'https://github.com/pallets/flask',\n",
       " 'description': 'The Python micro framework for building web applications.',\n",
       " 'fork': False,\n",
       " 'url': 'https://api.github.com/repos/pallets/flask',\n",
       " 'forks_url': 'https://api.github.com/repos/pallets/flask/forks',\n",
       " 'keys_url': 'https://api.github.com/repos/pallets/flask/keys{/key_id}',\n",
       " 'collaborators_url': 'https://api.github.com/repos/pallets/flask/collaborators{/collaborator}',\n",
       " 'teams_url': 'https://api.github.com/repos/pallets/flask/teams',\n",
       " 'hooks_url': 'https://api.github.com/repos/pallets/flask/hooks',\n",
       " 'issue_events_url': 'https://api.github.com/repos/pallets/flask/issues/events{/number}',\n",
       " 'events_url': 'https://api.github.com/repos/pallets/flask/events',\n",
       " 'assignees_url': 'https://api.github.com/repos/pallets/flask/assignees{/user}',\n",
       " 'branches_url': 'https://api.github.com/repos/pallets/flask/branches{/branch}',\n",
       " 'tags_url': 'https://api.github.com/repos/pallets/flask/tags',\n",
       " 'blobs_url': 'https://api.github.com/repos/pallets/flask/git/blobs{/sha}',\n",
       " 'git_tags_url': 'https://api.github.com/repos/pallets/flask/git/tags{/sha}',\n",
       " 'git_refs_url': 'https://api.github.com/repos/pallets/flask/git/refs{/sha}',\n",
       " 'trees_url': 'https://api.github.com/repos/pallets/flask/git/trees{/sha}',\n",
       " 'statuses_url': 'https://api.github.com/repos/pallets/flask/statuses/{sha}',\n",
       " 'languages_url': 'https://api.github.com/repos/pallets/flask/languages',\n",
       " 'stargazers_url': 'https://api.github.com/repos/pallets/flask/stargazers',\n",
       " 'contributors_url': 'https://api.github.com/repos/pallets/flask/contributors',\n",
       " 'subscribers_url': 'https://api.github.com/repos/pallets/flask/subscribers',\n",
       " 'subscription_url': 'https://api.github.com/repos/pallets/flask/subscription',\n",
       " 'commits_url': 'https://api.github.com/repos/pallets/flask/commits{/sha}',\n",
       " 'git_commits_url': 'https://api.github.com/repos/pallets/flask/git/commits{/sha}',\n",
       " 'comments_url': 'https://api.github.com/repos/pallets/flask/comments{/number}',\n",
       " 'issue_comment_url': 'https://api.github.com/repos/pallets/flask/issues/comments{/number}',\n",
       " 'contents_url': 'https://api.github.com/repos/pallets/flask/contents/{+path}',\n",
       " 'compare_url': 'https://api.github.com/repos/pallets/flask/compare/{base}...{head}',\n",
       " 'merges_url': 'https://api.github.com/repos/pallets/flask/merges',\n",
       " 'archive_url': 'https://api.github.com/repos/pallets/flask/{archive_format}{/ref}',\n",
       " 'downloads_url': 'https://api.github.com/repos/pallets/flask/downloads',\n",
       " 'issues_url': 'https://api.github.com/repos/pallets/flask/issues{/number}',\n",
       " 'pulls_url': 'https://api.github.com/repos/pallets/flask/pulls{/number}',\n",
       " 'milestones_url': 'https://api.github.com/repos/pallets/flask/milestones{/number}',\n",
       " 'notifications_url': 'https://api.github.com/repos/pallets/flask/notifications{?since,all,participating}',\n",
       " 'labels_url': 'https://api.github.com/repos/pallets/flask/labels{/name}',\n",
       " 'releases_url': 'https://api.github.com/repos/pallets/flask/releases{/id}',\n",
       " 'deployments_url': 'https://api.github.com/repos/pallets/flask/deployments',\n",
       " 'created_at': '2010-04-06T11:11:59Z',\n",
       " 'updated_at': '2021-02-24T21:26:55Z',\n",
       " 'pushed_at': '2021-02-24T21:49:26Z',\n",
       " 'git_url': 'git://github.com/pallets/flask.git',\n",
       " 'ssh_url': 'git@github.com:pallets/flask.git',\n",
       " 'clone_url': 'https://github.com/pallets/flask.git',\n",
       " 'svn_url': 'https://github.com/pallets/flask',\n",
       " 'homepage': 'https://flask.palletsprojects.com',\n",
       " 'size': 8249,\n",
       " 'stargazers_count': 54006,\n",
       " 'watchers_count': 54006,\n",
       " 'language': 'Python',\n",
       " 'has_issues': True,\n",
       " 'has_projects': False,\n",
       " 'has_downloads': True,\n",
       " 'has_wiki': False,\n",
       " 'has_pages': False,\n",
       " 'forks_count': 14133,\n",
       " 'mirror_url': None,\n",
       " 'archived': False,\n",
       " 'disabled': False,\n",
       " 'open_issues_count': 27,\n",
       " 'license': {'key': 'bsd-3-clause',\n",
       "  'name': 'BSD 3-Clause \"New\" or \"Revised\" License',\n",
       "  'spdx_id': 'BSD-3-Clause',\n",
       "  'url': 'https://api.github.com/licenses/bsd-3-clause',\n",
       "  'node_id': 'MDc6TGljZW5zZTU='},\n",
       " 'forks': 14133,\n",
       " 'open_issues': 27,\n",
       " 'watchers': 54006,\n",
       " 'default_branch': 'master',\n",
       " 'temp_clone_token': None,\n",
       " 'organization': {'login': 'pallets',\n",
       "  'id': 16748505,\n",
       "  'node_id': 'MDEyOk9yZ2FuaXphdGlvbjE2NzQ4NTA1',\n",
       "  'avatar_url': 'https://avatars.githubusercontent.com/u/16748505?v=4',\n",
       "  'gravatar_id': '',\n",
       "  'url': 'https://api.github.com/users/pallets',\n",
       "  'html_url': 'https://github.com/pallets',\n",
       "  'followers_url': 'https://api.github.com/users/pallets/followers',\n",
       "  'following_url': 'https://api.github.com/users/pallets/following{/other_user}',\n",
       "  'gists_url': 'https://api.github.com/users/pallets/gists{/gist_id}',\n",
       "  'starred_url': 'https://api.github.com/users/pallets/starred{/owner}{/repo}',\n",
       "  'subscriptions_url': 'https://api.github.com/users/pallets/subscriptions',\n",
       "  'organizations_url': 'https://api.github.com/users/pallets/orgs',\n",
       "  'repos_url': 'https://api.github.com/users/pallets/repos',\n",
       "  'events_url': 'https://api.github.com/users/pallets/events{/privacy}',\n",
       "  'received_events_url': 'https://api.github.com/users/pallets/received_events',\n",
       "  'type': 'Organization',\n",
       "  'site_admin': False},\n",
       " 'network_count': 14133,\n",
       " 'subscribers_count': 2269}"
      ]
     },
     "metadata": {},
     "execution_count": 260
    }
   ],
   "source": [
    "r_issues = request('GET', 'https://api.github.com/repos/pallets/flask')\n",
    "r_issues.json()"
   ]
  },
  {
   "cell_type": "code",
   "execution_count": 256,
   "metadata": {},
   "outputs": [
    {
     "output_type": "error",
     "ename": "KeyError",
     "evalue": "'items'",
     "traceback": [
      "\u001b[0;31m---------------------------------------------------------------------------\u001b[0m",
      "\u001b[0;31mKeyError\u001b[0m                                  Traceback (most recent call last)",
      "\u001b[0;32m<ipython-input-256-40db4cfce78d>\u001b[0m in \u001b[0;36m<module>\u001b[0;34m\u001b[0m\n\u001b[1;32m      1\u001b[0m \u001b[0;31m# r_issues = request('GET', 'https://api.github.com/search/issues', params={'q': 'repo:pallets/flask label:bug state:closed'})\u001b[0m\u001b[0;34m\u001b[0m\u001b[0;34m\u001b[0m\u001b[0;34m\u001b[0m\u001b[0m\n\u001b[1;32m      2\u001b[0m \u001b[0mr_issues\u001b[0m \u001b[0;34m=\u001b[0m \u001b[0mrequest\u001b[0m\u001b[0;34m(\u001b[0m\u001b[0;34m'GET'\u001b[0m\u001b[0;34m,\u001b[0m \u001b[0;34m'https://api.github.com/search/issues'\u001b[0m\u001b[0;34m)\u001b[0m\u001b[0;34m\u001b[0m\u001b[0;34m\u001b[0m\u001b[0m\n\u001b[0;32m----> 3\u001b[0;31m \u001b[0mr_issues\u001b[0m\u001b[0;34m.\u001b[0m\u001b[0mjson\u001b[0m\u001b[0;34m(\u001b[0m\u001b[0;34m)\u001b[0m\u001b[0;34m[\u001b[0m\u001b[0;34m'items'\u001b[0m\u001b[0;34m]\u001b[0m\u001b[0;34m[\u001b[0m\u001b[0;36m0\u001b[0m\u001b[0;34m]\u001b[0m\u001b[0;34m\u001b[0m\u001b[0;34m\u001b[0m\u001b[0m\n\u001b[0m\u001b[1;32m      4\u001b[0m \u001b[0;31m# for item in r_issues.json():\u001b[0m\u001b[0;34m\u001b[0m\u001b[0;34m\u001b[0m\u001b[0;34m\u001b[0m\u001b[0m\n\u001b[1;32m      5\u001b[0m \u001b[0;31m#     pp(item['state'])\u001b[0m\u001b[0;34m\u001b[0m\u001b[0;34m\u001b[0m\u001b[0;34m\u001b[0m\u001b[0m\n",
      "\u001b[0;31mKeyError\u001b[0m: 'items'"
     ]
    }
   ],
   "source": [
    "# r_issues = request('GET', 'https://api.github.com/search/issues', params={'q': 'repo:pallets/flask label:bug state:closed'})\n",
    "# r_issues.json()['items'][0]\n",
    "# for item in r_issues.json():\n",
    "#     pp(item['state'])"
   ]
  },
  {
   "cell_type": "code",
   "execution_count": null,
   "metadata": {},
   "outputs": [],
   "source": []
  }
 ]
}