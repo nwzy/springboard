{
 "cells": [
  {
   "cell_type": "markdown",
   "id": "statewide-consumer",
   "metadata": {},
   "source": [
    "# How to access Git LFS files\n",
    "Nicolas Wong (Feb 21)\n",
    "\n",
    "March 1st 2021"
   ]
  },
  {
   "cell_type": "markdown",
   "id": "honey-hanging",
   "metadata": {},
   "source": [
    "### NOTE: This is likely being phased out in the very near future and is here for archival/academic purposes \n",
    "Other notes\n",
    "* This **only** works on a previous file (`cast.csv`) on a specific commit (`70d78f4508b71e84d282555c91d9b778bfb05027`)\n",
    "* **All other files are broken**\n",
    "* Source: [Github LFS repo instruction](https://github.com/git-lfs/git-lfs/wiki/Installation)"
   ]
  },
  {
   "cell_type": "markdown",
   "id": "medium-contribution",
   "metadata": {},
   "source": [
    "## 1. Open a new `Terminal` within JupyterLab in your Paperspace container"
   ]
  },
  {
   "cell_type": "markdown",
   "id": "golden-feelings",
   "metadata": {},
   "source": [
    "## 2. Execute `curl -s https://packagecloud.io/install/repositories/github/git-lfs/script.deb.sh | bash`\n",
    "\n",
    "* This will run the script automatically which updates `apt-get` with the correct information to allow downloading `git lfs` onto the Paperspace Debian"
   ]
  },
  {
   "cell_type": "markdown",
   "id": "integrated-bloom",
   "metadata": {},
   "source": [
    "Output:\n",
    "```\n",
    "# curl -s https://packagecloud.io/install/repositories/github/git-lfs/script.deb.sh | bash\n",
    "Detected operating system as Ubuntu/xenial.\n",
    "Checking for curl...\n",
    "Detected curl...\n",
    "Checking for gpg...\n",
    "Detected gpg...\n",
    "Running apt-get update... done.\n",
    "Installing apt-transport-https... done.\n",
    "Installing /etc/apt/sources.list.d/github_git-lfs.list...done.\n",
    "Importing packagecloud gpg key... done.\n",
    "Running apt-get update... done.\n",
    "\n",
    "The repository is setup! You can now install packages.\n",
    "```"
   ]
  },
  {
   "cell_type": "markdown",
   "id": "documentary-strengthening",
   "metadata": {},
   "source": [
    "## 3. Run `apt-get install git-lfs`\n",
    "* Installs `git lfs`"
   ]
  },
  {
   "cell_type": "markdown",
   "id": "hybrid-seller",
   "metadata": {},
   "source": [
    "Output:\n",
    "```\n",
    "# apt-get install git-lfs\n",
    "Reading package lists... Done\n",
    "Building dependency tree       \n",
    "Reading state information... Done\n",
    "The following NEW packages will be installed:\n",
    "  git-lfs\n",
    "0 upgraded, 1 newly installed, 0 to remove and 29 not upgraded.\n",
    "Need to get 6540 kB of archives.\n",
    "After this operation, 15.3 MB of additional disk space will be used.\n",
    "Get:1 https://packagecloud.io/github/git-lfs/ubuntu xenial/main amd64 git-lfs amd64 2.13.2 [6540 kB]\n",
    "Fetched 6540 kB in 0s (7266 kB/s)\n",
    "debconf: delaying package configuration, since apt-utils is not installed\n",
    "Selecting previously unselected package git-lfs.\n",
    "(Reading database ... 18610 files and directories currently installed.)\n",
    "Preparing to unpack .../git-lfs_2.13.2_amd64.deb ...\n",
    "Unpacking git-lfs (2.13.2) ...\n",
    "Setting up git-lfs (2.13.2) ...\n",
    "Git LFS initialized.\n",
    "```"
   ]
  },
  {
   "cell_type": "markdown",
   "id": "nervous-balloon",
   "metadata": {},
   "source": [
    "## 4. Pull the commits with the files storing the `git lfs` info\n",
    "* `git lfs` works in the background and should automagically download the complete file based on the information within files using the LFS system"
   ]
  },
  {
   "cell_type": "markdown",
   "id": "adjustable-boutique",
   "metadata": {},
   "source": [
    "Output:\n",
    "```\n",
    "# git checkout 70d78f4508b71e84d282555c91d9b778bfb05027\n",
    "Downloading mec-5.3.10-data-wranging-with-pandas-mini-project/cast.csv (227 MB)\n",
    "Note: checking out '70d78f4508b71e84d282555c91d9b778bfb05027'.\n",
    "\n",
    "You are in 'detached HEAD' state. You can look around, make experimental\n",
    "changes and commit them, and you can discard any commits you make in this\n",
    "state without impacting any branches by performing another checkout.\n",
    "\n",
    "If you want to create a new branch to retain commits you create, you may\n",
    "do so (now or later) by using -b with the checkout command again. Example:\n",
    "\n",
    "  git checkout -b <new-branch-name>\n",
    "\n",
    "HEAD is now at 70d78f4... Update data files in project (#3)\n",
    "```"
   ]
  },
  {
   "cell_type": "markdown",
   "id": "dimensional-liability",
   "metadata": {},
   "source": [
    "# Question: Why do the other files still only have a few lines and don't have the real information?\n",
    "# Answer: The `oid` is likely broken\n",
    "\n",
    "Once you successfully install `git lfs`, you can start executing LFS specific commands. \n",
    "It _knows_ which files are LFS files, which can be seen by running `git lfs ls-files`\n",
    "\n",
    "```\n",
    "# git lfs ls-files\n",
    "841d85a7a4 - mec-12.4.2-logistic-regression-mini-project/data/01_heights_weights_genders.csv\n",
    "5c45835db2 - mec-13.5.1-tree-based-algorithms-mini-project/GermanCredit.csv\n",
    "a4f1ba5c26 - mec-17.4.1-recommendation-systems-mini-project/data/combined_data.csv\n",
    "5c1b39b39e - mec-17.4.1-recommendation-systems-mini-project/data/movie_titles.csv\n",
    "37ec322786 - mec-17.4.1-recommendation-systems-mini-project/data/movies_metadata.csv\n",
    "21ac5471fa - mec-18.5.1-time-series-analysis-mini-project/IBM_2006-01-01_to_2018-01-01.csv\n",
    "```\n",
    "\n",
    "However, when actually trying to `git lfs pull` the files, the object-id's (`oid`) are broken\n",
    "\n",
    "```\n",
    "# git lfs pull\n",
    "[a4f1ba5c26b6bb6522ab3a85125d8f41be1364f10125e11ccc832081abf916f5] Object does not exist on the server: [404] Object does not exist on the server\n",
    "[37ec322786b136a24604564e55160be75f8937546f11cb1a990076971fa895fd] Object does not exist on the server: [404] Object does not exist on the server\n",
    "[5c1b39b39ed1f5b58da872414a49b77e921fa8a069f15b3d36f78a0705e6a153] Object does not exist on the server: [404] Object does not exist on the server\n",
    "[841d85a7a484633517d5d1060b77e6d994a6f0495c92dec6da0520cbf1fc8852] Object does not exist on the server: [404] Object does not exist on the server\n",
    "[21ac5471fa68f438dbfc8bf2a9588816bbbdc6cc92e9f119b453459b54103219] Object does not exist on the server: [404] Object does not exist on the server\n",
    "[5c45835db2cb78458ef06a86845b78fae0225797a2e8e935d82b5f6767e0f387] Object does not exist on the server: [404] Object does not exist on the server\n",
    "error: failed to fetch some objects from 'https://github.com/springboard-curriculum/mec-mini-projects.git/info/lfs'\n",
    "```"
   ]
  },
  {
   "cell_type": "code",
   "execution_count": null,
   "id": "classified-celebration",
   "metadata": {},
   "outputs": [],
   "source": []
  }
 ],
 "metadata": {
  "kernelspec": {
   "display_name": "Python 3",
   "language": "python",
   "name": "python3"
  },
  "language_info": {
   "codemirror_mode": {
    "name": "ipython",
    "version": 3
   },
   "file_extension": ".py",
   "mimetype": "text/x-python",
   "name": "python",
   "nbconvert_exporter": "python",
   "pygments_lexer": "ipython3",
   "version": "3.8.2"
  }
 },
 "nbformat": 4,
 "nbformat_minor": 5
}
