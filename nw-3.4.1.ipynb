{
 "cells": [
  {
   "cell_type": "markdown",
   "metadata": {},
   "source": [
    "# Springboard\n",
    "# 3.4.1 - API data wrangling\n",
    "---\n",
    "Nicolas Wong"
   ]
  },
  {
   "cell_type": "markdown",
   "metadata": {},
   "source": [
    "## Goal\n",
    "Use the [Quandl API](https://docs.quandl.com/docs/time-series) API to explore equities data from the Fankfurt Stock Exchange. We'll analyze the stock prices of a company called [Carl Zeiss Meditec](https://www.zeiss.com/meditec/int/home.html) (stock ticker AFX_X)"
   ]
  },
  {
   "cell_type": "markdown",
   "metadata": {},
   "source": [
    "## Notes\n",
    "Try to only used the package *[requests](http://docs.python-requests.org/en/master/)* and packages provided from the *stdlib* (such as _Collections_)"
   ]
  },
  {
   "cell_type": "markdown",
   "metadata": {},
   "source": [
    "### These are your tasks for this mini project:\n",
    "\n",
    "1. Collect data from the Franfurt Stock Exchange, for the ticker AFX_X, for the whole year 2017 (keep in mind that the date format is YYYY-MM-DD).\n",
    "2. Convert the returned JSON object into a Python dictionary.\n",
    "3. Calculate what the highest and lowest opening prices were for the stock in this period.\n",
    "4. What was the largest change in any one day (based on High and Low price)?\n",
    "5. What was the largest change between any two days (based on Closing Price)?\n",
    "6. What was the average daily trading volume during this year?\n",
    "7. (Optional) What was the median trading volume during this year. (Note: you may need to implement your own function for calculating the median.)"
   ]
  },
  {
   "cell_type": "markdown",
   "metadata": {},
   "source": [
    "## Setup"
   ]
  },
  {
   "cell_type": "code",
   "execution_count": 1,
   "metadata": {},
   "outputs": [],
   "source": [
    "import os\n",
    "API_KEY = os.environ['QUANDL_API_KEY']"
   ]
  },
  {
   "cell_type": "markdown",
   "metadata": {},
   "source": [
    "### 1. Collect data from the Franfurt Stock Exchange, for the ticker AFX_X, for the whole year 2017 (keep in mind that the date format is YYYY-MM-DD)."
   ]
  },
  {
   "cell_type": "code",
   "execution_count": 2,
   "metadata": {},
   "outputs": [],
   "source": [
    "# Set up URL info\n",
    "from requests import request\n",
    "\n",
    "url_info = {\n",
    "    'database_code': 'FSE',\n",
    "    'dataset_code': 'AFX_X',\n",
    "    'filetype': 'json',\n",
    "}\n",
    "\n",
    "url = f\"https://www.quandl.com/api/v3/datasets/{url_info['database_code']}/{url_info['dataset_code']}.{url_info['filetype']}\"\n",
    "\n",
    "# Set up params according to https://docs.quandl.com/docs/parameters-2\n",
    "params = {\n",
    "    'start_date': '2017-01-01',\n",
    "    'end_date': '2018-01-01',\n",
    "    'order': 'asc',\n",
    "    'collapse': 'daily',\n",
    "    'api_key': API_KEY,\n",
    "}\n",
    "\n",
    "r = request('GET', url, params=params)\n",
    "\n",
    "data = r.json()\n",
    "# data['dataset']['data'][0] # Checking data"
   ]
  },
  {
   "cell_type": "markdown",
   "metadata": {},
   "source": [
    "### 2. Convert the returned JSON object into a Python dictionary."
   ]
  },
  {
   "cell_type": "code",
   "execution_count": 3,
   "metadata": {},
   "outputs": [
    {
     "data": {
      "text/plain": [
       "dict"
      ]
     },
     "execution_count": 3,
     "metadata": {},
     "output_type": "execute_result"
    }
   ],
   "source": [
    "type(data)"
   ]
  },
  {
   "cell_type": "code",
   "execution_count": 4,
   "metadata": {},
   "outputs": [
    {
     "name": "stdout",
     "output_type": "stream",
     "text": [
      "0 Date\n",
      "1 Open\n",
      "2 High\n",
      "3 Low\n",
      "4 Close\n",
      "5 Change\n",
      "6 Traded Volume\n",
      "7 Turnover\n",
      "8 Last Price of the Day\n",
      "9 Daily Traded Units\n",
      "10 Daily Turnover\n"
     ]
    }
   ],
   "source": [
    "# Column\tDescription\n",
    "# Date\tDate of the trading day\n",
    "# Open\tPrice of the first regular trade of the day\n",
    "# High\tHighest price of the trading day\n",
    "# Low\tLowest price of the trading day\n",
    "# Close\tOfficial closing price of the trading day\n",
    "# Volume\tVolume of trades for the day\n",
    "# Adjustment Factor\tThe factor by which historical share prices/volumes are adjusted. This field is populated only in the adjusted time-series.\n",
    "# Adjustment Type\tA numeric code (integer) corresponding to the corporate action that precipitated adjustment, such as dividend, consolidation, etc. If more than one corporate action occurs for the day, the individual codes are combined. For more details, see the Adjustment Types section below.\n",
    "\n",
    "for k,v in enumerate(data['dataset']['column_names']):\n",
    "    print(k,v)"
   ]
  },
  {
   "cell_type": "markdown",
   "metadata": {},
   "source": [
    "### 3. Calculate what the highest and lowest opening prices were for the stock in this period."
   ]
  },
  {
   "cell_type": "code",
   "execution_count": 5,
   "metadata": {},
   "outputs": [
    {
     "data": {
      "text/plain": [
       "(53.11, 34.0)"
      ]
     },
     "execution_count": 5,
     "metadata": {},
     "output_type": "execute_result"
    }
   ],
   "source": [
    "d = data['dataset']['data']\n",
    "open_data = [x[1] for x in d if x[1]]\n",
    "\n",
    "max(open_data), min(open_data)\n",
    "\n",
    "# Another way to accomplish the same thing:\n",
    "# open_data.sort()\n",
    "# open_data[-1]"
   ]
  },
  {
   "cell_type": "markdown",
   "metadata": {},
   "source": [
    "### 4. What was the largest change in any one day (based on High and Low price)?"
   ]
  },
  {
   "cell_type": "code",
   "execution_count": 6,
   "metadata": {},
   "outputs": [
    {
     "data": {
      "text/plain": [
       "2.81"
      ]
     },
     "execution_count": 6,
     "metadata": {},
     "output_type": "execute_result"
    }
   ],
   "source": [
    "high_low_diff = [x[2]-x[3] for x in d if x[2] and x[3]]\n",
    "\n",
    "round(\n",
    "    max(high_low_diff), 2\n",
    ")"
   ]
  },
  {
   "cell_type": "markdown",
   "metadata": {},
   "source": [
    "### 5. What was the largest change between any two days (based on Closing Price)?"
   ]
  },
  {
   "cell_type": "code",
   "execution_count": 7,
   "metadata": {
    "tags": []
   },
   "outputs": [
    {
     "data": {
      "text/plain": [
       "(19.03, 65025)"
      ]
     },
     "execution_count": 7,
     "metadata": {},
     "output_type": "execute_result"
    }
   ],
   "source": [
    "# Basic loop\n",
    "\n",
    "max_value = 0.0\n",
    "counter = 0 # 255**2 (255 entries) = 65025\n",
    "for x in d:\n",
    "    if not x:\n",
    "        continue\n",
    "    for y in d:\n",
    "        if not y:\n",
    "            continue\n",
    "        value = abs(y[4]-x[4])\n",
    "        # print(value)\n",
    "        counter += 1\n",
    "        if value > max_value:\n",
    "            max_value = value\n",
    "\n",
    "max_value, counter"
   ]
  },
  {
   "cell_type": "code",
   "execution_count": 8,
   "metadata": {
    "tags": []
   },
   "outputs": [
    {
     "data": {
      "text/plain": [
       "19.03"
      ]
     },
     "execution_count": 8,
     "metadata": {},
     "output_type": "execute_result"
    }
   ],
   "source": [
    "# Using enumerate\n",
    "max_value = 0.0\n",
    "\n",
    "for k,v in enumerate(d):\n",
    "    for i in range(len(d)):\n",
    "        val = abs(v[4] - d[i][4])\n",
    "        if val > max_value:\n",
    "            max_value = val\n",
    "\n",
    "max_value"
   ]
  },
  {
   "cell_type": "markdown",
   "metadata": {},
   "source": [
    "### 6. What was the average daily trading volume during this year?"
   ]
  },
  {
   "cell_type": "code",
   "execution_count": 9,
   "metadata": {},
   "outputs": [
    {
     "data": {
      "text/plain": [
       "89124.34"
      ]
     },
     "execution_count": 9,
     "metadata": {},
     "output_type": "execute_result"
    }
   ],
   "source": [
    "tvol_list = [x[6] for x in d if x[6]]\n",
    "ave = sum(tvol_list)/len(tvol_list)\n",
    "\n",
    "round(ave, 2)"
   ]
  },
  {
   "cell_type": "code",
   "execution_count": 10,
   "metadata": {},
   "outputs": [
    {
     "data": {
      "text/plain": [
       "89124.34"
      ]
     },
     "execution_count": 10,
     "metadata": {},
     "output_type": "execute_result"
    }
   ],
   "source": [
    "# Using statistics built-in\n",
    "from statistics import mean\n",
    "\n",
    "round(\n",
    "    mean(tvol_list), 2\n",
    ")"
   ]
  },
  {
   "cell_type": "markdown",
   "metadata": {},
   "source": [
    "### 7. (Optional) What was the median trading volume during this year. (Note: you may need to implement your own function for calculating the median.)"
   ]
  },
  {
   "cell_type": "code",
   "execution_count": 11,
   "metadata": {},
   "outputs": [
    {
     "data": {
      "text/plain": [
       "76286.0"
      ]
     },
     "execution_count": 11,
     "metadata": {},
     "output_type": "execute_result"
    }
   ],
   "source": [
    "def my_median(in_list):\n",
    "    if len(in_list) % 2 == 0:\n",
    "        median_tuple = (\n",
    "            in_list[len(in_list)//2 - 1], \n",
    "            in_list[len(in_list)//2],\n",
    "        )\n",
    "        median_val = sum(median_tuple)/2\n",
    "        return median_val\n",
    "    else:\n",
    "        return in_list[len(in_list)//2]\n",
    "\n",
    "tvol_list.sort()\n",
    "\n",
    "my_median(tvol_list)"
   ]
  },
  {
   "cell_type": "code",
   "execution_count": 12,
   "metadata": {},
   "outputs": [
    {
     "data": {
      "text/plain": [
       "76286.0"
      ]
     },
     "execution_count": 12,
     "metadata": {},
     "output_type": "execute_result"
    }
   ],
   "source": [
    "from statistics import median\n",
    "\n",
    "round(\n",
    "    median(tvol_list), 2\n",
    ")"
   ]
  },
  {
   "cell_type": "code",
   "execution_count": 13,
   "metadata": {},
   "outputs": [
    {
     "name": "stdout",
     "output_type": "stream",
     "text": [
      "[11, 18, 36, 45, 51, 60, 66, 71, 75, 89]\n",
      "[23, 35, 43, 50, 51, 64, 73, 76, 98]\n"
     ]
    }
   ],
   "source": [
    "# Test case\n",
    "import random\n",
    "\n",
    "random_list_even = random.sample(range(10,100), 10)\n",
    "random_list_odd = random.sample(range(10,100), 9)\n",
    "\n",
    "# Even test\n",
    "random_list_even.sort()\n",
    "print(random_list_even)\n",
    "assert(median(random_list_even) == my_median(random_list_even)) # True\n",
    "assert(median(random_list_even) != my_median(random_list_even[:-1])) # Fails\n",
    "\n",
    "# Odd test\n",
    "random_list_odd.sort()\n",
    "print(random_list_odd)\n",
    "assert(median(random_list_odd) == my_median(random_list_odd)) # True\n",
    "assert(median(random_list_odd) != my_median(random_list_odd[:-1])) # Fails\n"
   ]
  }
 ],
 "metadata": {
  "kernelspec": {
   "display_name": "Python 3",
   "language": "python",
   "name": "python3"
  },
  "language_info": {
   "codemirror_mode": {
    "name": "ipython",
    "version": 3
   },
   "file_extension": ".py",
   "mimetype": "text/x-python",
   "name": "python",
   "nbconvert_exporter": "python",
   "pygments_lexer": "ipython3",
   "version": "3.8.2"
  }
 },
 "nbformat": 4,
 "nbformat_minor": 2
}
